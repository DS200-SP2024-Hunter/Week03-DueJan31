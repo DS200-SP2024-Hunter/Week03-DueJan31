{
 "cells": [
  {
   "cell_type": "markdown",
   "id": "e257d392",
   "metadata": {},
   "source": [
    "# Step by step approach to Lab 03\n",
    "https://github.com/DS200-SP2024-Hunter/Week03-DueJan31\n",
    "\n",
    "Contact: vzm5268@psu.edu\n"
   ]
  },
  {
   "cell_type": "markdown",
   "id": "5c8d3b22",
   "metadata": {},
   "source": [
    "#### NOTE: Executing this notebook may give errors as all the code snippets provided here are mere examples\n",
    "If you have doubts in this section, visit me during office hours. This is not a programming course, main focus is to understand the underlying statistic concepts"
   ]
  },
  {
   "cell_type": "raw",
   "id": "498ecc26",
   "metadata": {},
   "source": [
    "# The code will be based on Sections 10.2 and 10.3 of the textbook, \n",
    "# which deals with a 13,825-row dataset of United Airlines flights\n",
    "# select, the notebook labeled \"chapters/10/2/Sampling_from_a_Population.ipynb\" \n",
    "# or \"chapters/10/3/Empirical_Distribution_of_a_Statistic.ipynb\""
   ]
  },
  {
   "cell_type": "code",
   "execution_count": 1,
   "id": "1669a184",
   "metadata": {},
   "outputs": [],
   "source": [
    "from datascience import *\n",
    "import numpy as np\n",
    "import matplotlib.pyplot as plots\n",
    "plots.style.use('fivethirtyeight')\n",
    "%matplotlib inline\n",
    "import pandas as pd"
   ]
  },
  {
   "cell_type": "code",
   "execution_count": 2,
   "id": "6c880755",
   "metadata": {},
   "outputs": [],
   "source": [
    "# set path\n",
    "path_data = 'https://raw.githubusercontent.com/data-8/textbook/main/assets/data/'"
   ]
  },
  {
   "cell_type": "markdown",
   "id": "64513d40",
   "metadata": {},
   "source": [
    "# Objective: \n",
    "\n",
    "Download a dataset with more than 350K rows on the bike share service in the Bay Area in California. Using the duration of each trip in seconds, consider these 350K measurements to represent a large population. Analyze the behavior of sample medians for samples of size 100 and 400 by simulating 5000 samples for both sample sizes. This dataset is analyzed in Section 8.5 of the textbook, in case you want to learn more about it."
   ]
  },
  {
   "cell_type": "markdown",
   "id": "5b277173",
   "metadata": {},
   "source": [
    "### Task 1\n",
    "\n",
    "Download the dataset. The dataset is called trip.csv and it may be accessed via path_data + 'trip.csv' just like the United flights dataset"
   ]
  },
  {
   "cell_type": "code",
   "execution_count": 4,
   "id": "0c1bf243",
   "metadata": {},
   "outputs": [
    {
     "data": {
      "text/html": [
       "<div>\n",
       "<style scoped>\n",
       "    .dataframe tbody tr th:only-of-type {\n",
       "        vertical-align: middle;\n",
       "    }\n",
       "\n",
       "    .dataframe tbody tr th {\n",
       "        vertical-align: top;\n",
       "    }\n",
       "\n",
       "    .dataframe thead th {\n",
       "        text-align: right;\n",
       "    }\n",
       "</style>\n",
       "<table border=\"1\" class=\"dataframe\">\n",
       "  <thead>\n",
       "    <tr style=\"text-align: right;\">\n",
       "      <th></th>\n",
       "      <th>Date</th>\n",
       "      <th>Flight Number</th>\n",
       "      <th>Destination</th>\n",
       "      <th>Delay</th>\n",
       "    </tr>\n",
       "  </thead>\n",
       "  <tbody>\n",
       "    <tr>\n",
       "      <th>0</th>\n",
       "      <td>6/1/15</td>\n",
       "      <td>73</td>\n",
       "      <td>HNL</td>\n",
       "      <td>257</td>\n",
       "    </tr>\n",
       "    <tr>\n",
       "      <th>1</th>\n",
       "      <td>6/1/15</td>\n",
       "      <td>217</td>\n",
       "      <td>EWR</td>\n",
       "      <td>28</td>\n",
       "    </tr>\n",
       "    <tr>\n",
       "      <th>2</th>\n",
       "      <td>6/1/15</td>\n",
       "      <td>237</td>\n",
       "      <td>STL</td>\n",
       "      <td>-3</td>\n",
       "    </tr>\n",
       "    <tr>\n",
       "      <th>3</th>\n",
       "      <td>6/1/15</td>\n",
       "      <td>250</td>\n",
       "      <td>SAN</td>\n",
       "      <td>0</td>\n",
       "    </tr>\n",
       "    <tr>\n",
       "      <th>4</th>\n",
       "      <td>6/1/15</td>\n",
       "      <td>267</td>\n",
       "      <td>PHL</td>\n",
       "      <td>64</td>\n",
       "    </tr>\n",
       "  </tbody>\n",
       "</table>\n",
       "</div>"
      ],
      "text/plain": [
       "     Date  Flight Number Destination  Delay\n",
       "0  6/1/15             73         HNL    257\n",
       "1  6/1/15            217         EWR     28\n",
       "2  6/1/15            237         STL     -3\n",
       "3  6/1/15            250         SAN      0\n",
       "4  6/1/15            267         PHL     64"
      ]
     },
     "execution_count": 4,
     "metadata": {},
     "output_type": "execute_result"
    }
   ],
   "source": [
    "df = pd.read_csv(path_data + \"united_summer2015.csv\")\n",
    "df.head()"
   ]
  },
  {
   "cell_type": "markdown",
   "id": "b6c9cd75",
   "metadata": {},
   "source": [
    "### Task 2\n",
    "Find the smallest and largest values of the 'Duration' column.\n",
    "\n"
   ]
  },
  {
   "cell_type": "code",
   "execution_count": 5,
   "id": "bd1cdf56",
   "metadata": {},
   "outputs": [
    {
     "data": {
      "text/plain": [
       "-16"
      ]
     },
     "execution_count": 5,
     "metadata": {},
     "output_type": "execute_result"
    }
   ],
   "source": [
    "# sample code to find min and max in Delay column. Modify it as suitable\n",
    "df.Delay.min()"
   ]
  },
  {
   "cell_type": "code",
   "execution_count": 6,
   "id": "4f956b5d",
   "metadata": {},
   "outputs": [
    {
     "data": {
      "text/plain": [
       "580"
      ]
     },
     "execution_count": 6,
     "metadata": {},
     "output_type": "execute_result"
    }
   ],
   "source": [
    "df.Delay.max()"
   ]
  },
  {
   "cell_type": "markdown",
   "id": "9060aff0",
   "metadata": {},
   "source": [
    "### Task 3\n",
    "\n",
    "Produce a histogram of Duration. Please choose your histogram bin boundaries so that you get a reasonable sense of the shape of the dataset, even if you have to exclude some of the very large values. Be sure to change the unit to \"second\" so that the axis labels are correct in your plot"
   ]
  },
  {
   "cell_type": "code",
   "execution_count": 9,
   "id": "cdeadf77",
   "metadata": {},
   "outputs": [
    {
     "data": {
      "text/plain": [
       "Text(0, 0.5, 'Fraction of flights')"
      ]
     },
     "execution_count": 9,
     "metadata": {},
     "output_type": "execute_result"
    },
    {
     "data": {
      "image/png": "[encoded data removed]",
      "text/plain": [
       "<Figure size 640x480 with 1 Axes>"
      ]
     },
     "metadata": {},
     "output_type": "display_data"
    }
   ],
   "source": [
    "# example\n",
    "\n",
    "delay_bins = np.arange(-20, 201, 10)\n",
    "df.hist('Delay', bins = delay_bins, density = True)\n",
    "plots.xlabel('Delay in Minutes')\n",
    "plots.ylabel('Fraction of flights')\n",
    "#Note: usuage of unit variable in dataframes won't work - there is no unit parameter for dataframes\n",
    "#Instead try printing xlabel, ylabel \n",
    "#plots.xlabel(\"so and so\")\n",
    "#plots.ylabel(\"so and so\")"
   ]
  },
  {
   "cell_type": "markdown",
   "id": "46229abb",
   "metadata": {},
   "source": [
    "### Task 4\n",
    "\n",
    "What fraction of the Duration values did you exclude from your histogram? Give a precise numerical answer.\n",
    "\n"
   ]
  },
  {
   "cell_type": "code",
   "execution_count": null,
   "id": "5fc91694",
   "metadata": {},
   "outputs": [],
   "source": [
    "# explain what you did & why you did it.\n",
    "# the point is to check your understanding"
   ]
  },
  {
   "cell_type": "markdown",
   "id": "6df58150",
   "metadata": {},
   "source": [
    "### Task 5\n",
    "\n",
    "Find the mean and median value of Duration. For the median, you'll need to use some code from Section 10.3, and the mean involves an obvious change. This dataset has the property that the mean is larger than the median because the shape of the historgram has a long tail in the positive direction (a long tail in a distribution tends to affect the mean but not the median).\n",
    "\n"
   ]
  },
  {
   "cell_type": "code",
   "execution_count": 10,
   "id": "9fa4f5b4",
   "metadata": {},
   "outputs": [
    {
     "data": {
      "text/plain": [
       "2.0"
      ]
     },
     "execution_count": 10,
     "metadata": {},
     "output_type": "execute_result"
    }
   ],
   "source": [
    "df.Delay.median()\n",
    "# np.median(df.Delay)"
   ]
  },
  {
   "cell_type": "raw",
   "id": "fc1e458e",
   "metadata": {},
   "source": [
    "The NumPy function median returns the median (half-way point) of an array. Among all the flights in united, the median delay was 2 minutes. That is, about 50% of flights in the population had delays of 2 or fewer minutes:"
   ]
  },
  {
   "cell_type": "code",
   "execution_count": 11,
   "id": "7c4a8c76",
   "metadata": {},
   "outputs": [
    {
     "data": {
      "text/plain": [
       "16.658155515370705"
      ]
     },
     "execution_count": 11,
     "metadata": {},
     "output_type": "execute_result"
    }
   ],
   "source": [
    "df.Delay.mean()\n",
    "# np.mean(df.Delay)"
   ]
  },
  {
   "cell_type": "markdown",
   "id": "b1f59069",
   "metadata": {},
   "source": [
    "### Task 6\n",
    "\n",
    "Simulate 5000 samples of size 100 from the Duration column. Create a histogram of the 5000 sample medians that result. Repeat this process using samples of size 400."
   ]
  },
  {
   "cell_type": "code",
   "execution_count": 23,
   "id": "281d7d87",
   "metadata": {},
   "outputs": [
    {
     "data": {
      "text/plain": [
       "5000"
      ]
     },
     "execution_count": 23,
     "metadata": {},
     "output_type": "execute_result"
    }
   ],
   "source": [
    "'''\n",
    "Repetitions = 5000\n",
    "Sample_size = 100\n",
    "'''\n",
    "\n",
    "median_lst = []\n",
    "for i in range(5000):\n",
    "    median_lst.append(df.Delay.sample(100).median())\n",
    "len(median_lst)"
   ]
  },
  {
   "cell_type": "code",
   "execution_count": 34,
   "id": "3289dd15",
   "metadata": {},
   "outputs": [
    {
     "data": {
      "text/plain": [
       "array([[<AxesSubplot:title={'center':'Sample Median'}>]], dtype=object)"
      ]
     },
     "execution_count": 34,
     "metadata": {},
     "output_type": "execute_result"
    },
    {
     "data": {
      "image/png": "[encoded data removed]",
      "text/plain": [
       "<Figure size 640x480 with 1 Axes>"
      ]
     },
     "metadata": {},
     "output_type": "display_data"
    }
   ],
   "source": [
    "df_median = pd.DataFrame({'Sample Median': median_lst})\n",
    "df_median.hist(density = True, bins = np.arange(0.5, 7, 1))"
   ]
  },
  {
   "cell_type": "code",
   "execution_count": 30,
   "id": "1784bb3b",
   "metadata": {},
   "outputs": [
    {
     "data": {
      "text/plain": [
       "3.5"
      ]
     },
     "execution_count": 30,
     "metadata": {},
     "output_type": "execute_result"
    }
   ],
   "source": [
    "df.Delay.sample(100).median().max()"
   ]
  },
  {
   "cell_type": "markdown",
   "id": "e7d77418",
   "metadata": {},
   "source": [
    "### Task 7\n",
    "Comment on the distributions of the sample median. What can you say about the shape of the distributions, the centers of the distributions (in relation to the population quantity of interest, the median), and the comparison between the \"widths\" of the two histograms?"
   ]
  },
  {
   "cell_type": "code",
   "execution_count": null,
   "id": "5c274ad0",
   "metadata": {},
   "outputs": [],
   "source": [
    "# give me a brief explanation \n",
    "# point of this task, is to check your understanding\n",
    "# you can discuss with your friends, exchange ideas - totally fine as long as your work in individualistic "
   ]
  }
 ],
 "metadata": {
  "kernelspec": {
   "display_name": "Python 3 (ipykernel)",
   "language": "python",
   "name": "python3"
  },
  "language_info": {
   "codemirror_mode": {
    "name": "ipython",
    "version": 3
   },
   "file_extension": ".py",
   "mimetype": "text/x-python",
   "name": "python",
   "nbconvert_exporter": "python",
   "pygments_lexer": "ipython3",
   "version": "3.7.9"
  }
 },
 "nbformat": 4,
 "nbformat_minor": 5
}
