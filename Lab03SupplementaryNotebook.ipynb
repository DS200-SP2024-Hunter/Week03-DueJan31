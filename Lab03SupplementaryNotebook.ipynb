{
  "cells": [
    {
      "cell_type": "markdown",
      "id": "e257d392",
      "metadata": {
        "id": "e257d392"
      },
      "source": [
        "# Step by step approach to Lab 03\n",
        "https://github.com/DS200-SP2024-Hunter/Week03-DueJan31\n",
        "\n",
        "Contact: vzm5268@psu.edu\n"
      ]
    },
    {
      "cell_type": "markdown",
      "id": "5c8d3b22",
      "metadata": {
        "id": "5c8d3b22"
      },
      "source": [
        "#### NOTE: Executing this notebook may give errors as all the code snippets provided here are mere examples\n",
        "If you have doubts in this section, visit me during office hours. This is not a programming course, main focus is to understand the underlying statistic concepts"
      ]
    },
    {
      "cell_type": "raw",
      "id": "498ecc26",
      "metadata": {
        "id": "498ecc26"
      },
      "source": [
        "# The code will be based on Sections 10.2 and 10.3 of the textbook,\n",
        "# which deals with a 13,825-row dataset of United Airlines flights\n",
        "# select, the notebook labeled \"chapters/10/2/Sampling_from_a_Population.ipynb\"\n",
        "# or \"chapters/10/3/Empirical_Distribution_of_a_Statistic.ipynb\""
      ]
    },
    {
      "cell_type": "code",
      "execution_count": 2,
      "id": "1669a184",
      "metadata": {
        "id": "1669a184"
      },
      "outputs": [],
      "source": [
        "from datascience import *\n",
        "import numpy as np\n",
        "import matplotlib.pyplot as plots\n",
        "plots.style.use('fivethirtyeight')\n",
        "%matplotlib inline\n",
        "import pandas as pd"
      ]
    },
    {
      "cell_type": "code",
      "execution_count": 3,
      "id": "6c880755",
      "metadata": {
        "id": "6c880755"
      },
      "outputs": [],
      "source": [
        "# set path\n",
        "path_data = 'https://raw.githubusercontent.com/data-8/textbook/main/assets/data/'"
      ]
    },
    {
      "cell_type": "markdown",
      "id": "64513d40",
      "metadata": {
        "id": "64513d40"
      },
      "source": [
        "# Objective:\n",
        "\n",
        "Download a dataset with more than 350K rows on the bike share service in the Bay Area in California. Using the duration of each trip in seconds, consider these 350K measurements to represent a large population. Analyze the behavior of sample medians for samples of size 100 and 400 by simulating 5000 samples for both sample sizes. This dataset is analyzed in Section 8.5 of the textbook, in case you want to learn more about it."
      ]
    },
    {
      "cell_type": "markdown",
      "id": "5b277173",
      "metadata": {
        "id": "5b277173"
      },
      "source": [
        "### Task 1\n",
        "\n",
        "Download the dataset. The dataset is called trip.csv and it may be accessed via path_data + 'trip.csv' just like the United flights dataset"
      ]
    },
    {
      "cell_type": "code",
      "execution_count": 24,
      "id": "0c1bf243",
      "metadata": {
        "colab": {
          "base_uri": "https://localhost:8080/",
          "height": 206
        },
        "id": "0c1bf243",
        "outputId": "4231cb1b-fc52-4aeb-ee62-80b643ace55b"
      },
      "outputs": [
        {
          "output_type": "execute_result",
          "data": {
            "text/plain": [
              "     Date  Flight Number Destination  Delay\n",
              "0  6/1/15             73         HNL    257\n",
              "1  6/1/15            217         EWR     28\n",
              "2  6/1/15            237         STL     -3\n",
              "3  6/1/15            250         SAN      0\n",
              "4  6/1/15            267         PHL     64"
            ],
            "text/html": [
              "\n",
              "  <div id=\"df-39e02c5b-b1d8-4edf-8df0-5e460ff58e61\" class=\"colab-df-container\">\n",
              "    <div>\n",
              "<style scoped>\n",
              "    .dataframe tbody tr th:only-of-type {\n",
              "        vertical-align: middle;\n",
              "    }\n",
              "\n",
              "    .dataframe tbody tr th {\n",
              "        vertical-align: top;\n",
              "    }\n",
              "\n",
              "    .dataframe thead th {\n",
              "        text-align: right;\n",
              "    }\n",
              "</style>\n",
              "<table border=\"1\" class=\"dataframe\">\n",
              "  <thead>\n",
              "    <tr style=\"text-align: right;\">\n",
              "      <th></th>\n",
              "      <th>Date</th>\n",
              "      <th>Flight Number</th>\n",
              "      <th>Destination</th>\n",
              "      <th>Delay</th>\n",
              "    </tr>\n",
              "  </thead>\n",
              "  <tbody>\n",
              "    <tr>\n",
              "      <th>0</th>\n",
              "      <td>6/1/15</td>\n",
              "      <td>73</td>\n",
              "      <td>HNL</td>\n",
              "      <td>257</td>\n",
              "    </tr>\n",
              "    <tr>\n",
              "      <th>1</th>\n",
              "      <td>6/1/15</td>\n",
              "      <td>217</td>\n",
              "      <td>EWR</td>\n",
              "      <td>28</td>\n",
              "    </tr>\n",
              "    <tr>\n",
              "      <th>2</th>\n",
              "      <td>6/1/15</td>\n",
              "      <td>237</td>\n",
              "      <td>STL</td>\n",
              "      <td>-3</td>\n",
              "    </tr>\n",
              "    <tr>\n",
              "      <th>3</th>\n",
              "      <td>6/1/15</td>\n",
              "      <td>250</td>\n",
              "      <td>SAN</td>\n",
              "      <td>0</td>\n",
              "    </tr>\n",
              "    <tr>\n",
              "      <th>4</th>\n",
              "      <td>6/1/15</td>\n",
              "      <td>267</td>\n",
              "      <td>PHL</td>\n",
              "      <td>64</td>\n",
              "    </tr>\n",
              "  </tbody>\n",
              "</table>\n",
              "</div>\n",
              "    <div class=\"colab-df-buttons\">\n",
              "\n",
              "  <div class=\"colab-df-container\">\n",
              "    <button class=\"colab-df-convert\" onclick=\"convertToInteractive('df-39e02c5b-b1d8-4edf-8df0-5e460ff58e61')\"\n",
              "            title=\"Convert this dataframe to an interactive table.\"\n",
              "            style=\"display:none;\">\n",
              "\n",
              "  <svg xmlns=\"http://www.w3.org/2000/svg\" height=\"24px\" viewBox=\"0 -960 960 960\">\n",
              "    <path d=\"M120-120v-720h720v720H120Zm60-500h600v-160H180v160Zm220 220h160v-160H400v160Zm0 220h160v-160H400v160ZM180-400h160v-160H180v160Zm440 0h160v-160H620v160ZM180-180h160v-160H180v160Zm440 0h160v-160H620v160Z\"/>\n",
              "  </svg>\n",
              "    </button>\n",
              "\n",
              "  <style>\n",
              "    .colab-df-container {\n",
              "      display:flex;\n",
              "      gap: 12px;\n",
              "    }\n",
              "\n",
              "    .colab-df-convert {\n",
              "      background-color: #E8F0FE;\n",
              "      border: none;\n",
              "      border-radius: 50%;\n",
              "      cursor: pointer;\n",
              "      display: none;\n",
              "      fill: #1967D2;\n",
              "      height: 32px;\n",
              "      padding: 0 0 0 0;\n",
              "      width: 32px;\n",
              "    }\n",
              "\n",
              "    .colab-df-convert:hover {\n",
              "      background-color: #E2EBFA;\n",
              "      box-shadow: 0px 1px 2px rgba(60, 64, 67, 0.3), 0px 1px 3px 1px rgba(60, 64, 67, 0.15);\n",
              "      fill: #174EA6;\n",
              "    }\n",
              "\n",
              "    .colab-df-buttons div {\n",
              "      margin-bottom: 4px;\n",
              "    }\n",
              "\n",
              "    [theme=dark] .colab-df-convert {\n",
              "      background-color: #3B4455;\n",
              "      fill: #D2E3FC;\n",
              "    }\n",
              "\n",
              "    [theme=dark] .colab-df-convert:hover {\n",
              "      background-color: #434B5C;\n",
              "      box-shadow: 0px 1px 3px 1px rgba(0, 0, 0, 0.15);\n",
              "      filter: drop-shadow(0px 1px 2px rgba(0, 0, 0, 0.3));\n",
              "      fill: #FFFFFF;\n",
              "    }\n",
              "  </style>\n",
              "\n",
              "    <script>\n",
              "      const buttonEl =\n",
              "        document.querySelector('#df-39e02c5b-b1d8-4edf-8df0-5e460ff58e61 button.colab-df-convert');\n",
              "      buttonEl.style.display =\n",
              "        google.colab.kernel.accessAllowed ? 'block' : 'none';\n",
              "\n",
              "      async function convertToInteractive(key) {\n",
              "        const element = document.querySelector('#df-39e02c5b-b1d8-4edf-8df0-5e460ff58e61');\n",
              "        const dataTable =\n",
              "          await google.colab.kernel.invokeFunction('convertToInteractive',\n",
              "                                                    [key], {});\n",
              "        if (!dataTable) return;\n",
              "\n",
              "        const docLinkHtml = 'Like what you see? Visit the ' +\n",
              "          '<a target=\"_blank\" href=https://colab.research.google.com/notebooks/data_table.ipynb>data table notebook</a>'\n",
              "          + ' to learn more about interactive tables.';\n",
              "        element.innerHTML = '';\n",
              "        dataTable['output_type'] = 'display_data';\n",
              "        await google.colab.output.renderOutput(dataTable, element);\n",
              "        const docLink = document.createElement('div');\n",
              "        docLink.innerHTML = docLinkHtml;\n",
              "        element.appendChild(docLink);\n",
              "      }\n",
              "    </script>\n",
              "  </div>\n",
              "\n",
              "\n",
              "<div id=\"df-290f85a8-3176-4104-91a8-6e04a714e3fe\">\n",
              "  <button class=\"colab-df-quickchart\" onclick=\"quickchart('df-290f85a8-3176-4104-91a8-6e04a714e3fe')\"\n",
              "            title=\"Suggest charts\"\n",
              "            style=\"display:none;\">\n",
              "\n",
              "<svg xmlns=\"http://www.w3.org/2000/svg\" height=\"24px\"viewBox=\"0 0 24 24\"\n",
              "     width=\"24px\">\n",
              "    <g>\n",
              "        <path d=\"M19 3H5c-1.1 0-2 .9-2 2v14c0 1.1.9 2 2 2h14c1.1 0 2-.9 2-2V5c0-1.1-.9-2-2-2zM9 17H7v-7h2v7zm4 0h-2V7h2v10zm4 0h-2v-4h2v4z\"/>\n",
              "    </g>\n",
              "</svg>\n",
              "  </button>\n",
              "\n",
              "<style>\n",
              "  .colab-df-quickchart {\n",
              "      --bg-color: #E8F0FE;\n",
              "      --fill-color: #1967D2;\n",
              "      --hover-bg-color: #E2EBFA;\n",
              "      --hover-fill-color: #174EA6;\n",
              "      --disabled-fill-color: #AAA;\n",
              "      --disabled-bg-color: #DDD;\n",
              "  }\n",
              "\n",
              "  [theme=dark] .colab-df-quickchart {\n",
              "      --bg-color: #3B4455;\n",
              "      --fill-color: #D2E3FC;\n",
              "      --hover-bg-color: #434B5C;\n",
              "      --hover-fill-color: #FFFFFF;\n",
              "      --disabled-bg-color: #3B4455;\n",
              "      --disabled-fill-color: #666;\n",
              "  }\n",
              "\n",
              "  .colab-df-quickchart {\n",
              "    background-color: var(--bg-color);\n",
              "    border: none;\n",
              "    border-radius: 50%;\n",
              "    cursor: pointer;\n",
              "    display: none;\n",
              "    fill: var(--fill-color);\n",
              "    height: 32px;\n",
              "    padding: 0;\n",
              "    width: 32px;\n",
              "  }\n",
              "\n",
              "  .colab-df-quickchart:hover {\n",
              "    background-color: var(--hover-bg-color);\n",
              "    box-shadow: 0 1px 2px rgba(60, 64, 67, 0.3), 0 1px 3px 1px rgba(60, 64, 67, 0.15);\n",
              "    fill: var(--button-hover-fill-color);\n",
              "  }\n",
              "\n",
              "  .colab-df-quickchart-complete:disabled,\n",
              "  .colab-df-quickchart-complete:disabled:hover {\n",
              "    background-color: var(--disabled-bg-color);\n",
              "    fill: var(--disabled-fill-color);\n",
              "    box-shadow: none;\n",
              "  }\n",
              "\n",
              "  .colab-df-spinner {\n",
              "    border: 2px solid var(--fill-color);\n",
              "    border-color: transparent;\n",
              "    border-bottom-color: var(--fill-color);\n",
              "    animation:\n",
              "      spin 1s steps(1) infinite;\n",
              "  }\n",
              "\n",
              "  @keyframes spin {\n",
              "    0% {\n",
              "      border-color: transparent;\n",
              "      border-bottom-color: var(--fill-color);\n",
              "      border-left-color: var(--fill-color);\n",
              "    }\n",
              "    20% {\n",
              "      border-color: transparent;\n",
              "      border-left-color: var(--fill-color);\n",
              "      border-top-color: var(--fill-color);\n",
              "    }\n",
              "    30% {\n",
              "      border-color: transparent;\n",
              "      border-left-color: var(--fill-color);\n",
              "      border-top-color: var(--fill-color);\n",
              "      border-right-color: var(--fill-color);\n",
              "    }\n",
              "    40% {\n",
              "      border-color: transparent;\n",
              "      border-right-color: var(--fill-color);\n",
              "      border-top-color: var(--fill-color);\n",
              "    }\n",
              "    60% {\n",
              "      border-color: transparent;\n",
              "      border-right-color: var(--fill-color);\n",
              "    }\n",
              "    80% {\n",
              "      border-color: transparent;\n",
              "      border-right-color: var(--fill-color);\n",
              "      border-bottom-color: var(--fill-color);\n",
              "    }\n",
              "    90% {\n",
              "      border-color: transparent;\n",
              "      border-bottom-color: var(--fill-color);\n",
              "    }\n",
              "  }\n",
              "</style>\n",
              "\n",
              "  <script>\n",
              "    async function quickchart(key) {\n",
              "      const quickchartButtonEl =\n",
              "        document.querySelector('#' + key + ' button');\n",
              "      quickchartButtonEl.disabled = true;  // To prevent multiple clicks.\n",
              "      quickchartButtonEl.classList.add('colab-df-spinner');\n",
              "      try {\n",
              "        const charts = await google.colab.kernel.invokeFunction(\n",
              "            'suggestCharts', [key], {});\n",
              "      } catch (error) {\n",
              "        console.error('Error during call to suggestCharts:', error);\n",
              "      }\n",
              "      quickchartButtonEl.classList.remove('colab-df-spinner');\n",
              "      quickchartButtonEl.classList.add('colab-df-quickchart-complete');\n",
              "    }\n",
              "    (() => {\n",
              "      let quickchartButtonEl =\n",
              "        document.querySelector('#df-290f85a8-3176-4104-91a8-6e04a714e3fe button');\n",
              "      quickchartButtonEl.style.display =\n",
              "        google.colab.kernel.accessAllowed ? 'block' : 'none';\n",
              "    })();\n",
              "  </script>\n",
              "</div>\n",
              "\n",
              "    </div>\n",
              "  </div>\n"
            ]
          },
          "metadata": {},
          "execution_count": 24
        }
      ],
      "source": [
        "df = pd.read_csv(path_data + \"united_summer2015.csv\")\n",
        "df.head()"
      ]
    },
    {
      "cell_type": "markdown",
      "id": "b6c9cd75",
      "metadata": {
        "id": "b6c9cd75"
      },
      "source": [
        "### Task 2\n",
        "Find the smallest and largest values of the 'Duration' column.\n",
        "\n"
      ]
    },
    {
      "cell_type": "code",
      "execution_count": 5,
      "id": "bd1cdf56",
      "metadata": {
        "colab": {
          "base_uri": "https://localhost:8080/"
        },
        "id": "bd1cdf56",
        "outputId": "a7dae142-4a0c-47c8-cef9-cfd3907a13d0"
      },
      "outputs": [
        {
          "output_type": "execute_result",
          "data": {
            "text/plain": [
              "-16"
            ]
          },
          "metadata": {},
          "execution_count": 5
        }
      ],
      "source": [
        "# sample code to find min and max in Delay column. Modify it as suitable\n",
        "df.Delay.min()"
      ]
    },
    {
      "cell_type": "code",
      "execution_count": 6,
      "id": "4f956b5d",
      "metadata": {
        "colab": {
          "base_uri": "https://localhost:8080/"
        },
        "id": "4f956b5d",
        "outputId": "856e33ec-47f9-40ed-c34e-9c3077d91427"
      },
      "outputs": [
        {
          "output_type": "execute_result",
          "data": {
            "text/plain": [
              "580"
            ]
          },
          "metadata": {},
          "execution_count": 6
        }
      ],
      "source": [
        "df.Delay.max()"
      ]
    },
    {
      "cell_type": "markdown",
      "id": "9060aff0",
      "metadata": {
        "id": "9060aff0"
      },
      "source": [
        "### Task 3\n",
        "\n",
        "Produce a histogram of Duration. Please choose your histogram bin boundaries so that you get a reasonable sense of the shape of the dataset, even if you have to exclude some of the very large values. Be sure to change the unit to \"second\" so that the axis labels are correct in your plot"
      ]
    },
    {
      "cell_type": "code",
      "execution_count": 7,
      "id": "cdeadf77",
      "metadata": {
        "colab": {
          "base_uri": "https://localhost:8080/",
          "height": 525
        },
        "id": "cdeadf77",
        "outputId": "17017e40-f613-46db-f2fe-9fb5dc2d5e54"
      },
      "outputs": [
        {
          "output_type": "execute_result",
          "data": {
            "text/plain": [
              "Text(0, 0.5, 'Fraction of flights')"
            ]
          },
          "metadata": {},
          "execution_count": 7
        },
        {
          "output_type": "display_data",
          "data": {
            "text/plain": [
              "<Figure size 640x480 with 1 Axes>"
            ],
            "image/png": "[encoded data removed]"
          },
          "metadata": {}
        }
      ],
      "source": [
        "# example\n",
        "\n",
        "delay_bins = np.arange(-20, 201, 10)\n",
        "df.hist('Delay', bins = delay_bins, density = True)\n",
        "plots.xlabel('Delay in Minutes')\n",
        "plots.ylabel('Fraction of flights')\n",
        "#Note: usuage of unit variable in dataframes won't work - there is no unit parameter for dataframes\n",
        "#Instead try printing xlabel, ylabel\n",
        "#plots.xlabel(\"so and so\")\n",
        "#plots.ylabel(\"so and so\")"
      ]
    },
    {
      "cell_type": "markdown",
      "id": "46229abb",
      "metadata": {
        "id": "46229abb"
      },
      "source": [
        "### Task 4\n",
        "\n",
        "What fraction of the Duration values did you exclude from your histogram? Give a precise numerical answer.\n",
        "\n"
      ]
    },
    {
      "cell_type": "code",
      "source": [
        "# explain what you did & why you did it.\n",
        "# the point is to check your understanding"
      ],
      "metadata": {
        "id": "NJORoI12PtW5"
      },
      "id": "NJORoI12PtW5",
      "execution_count": null,
      "outputs": []
    },
    {
      "cell_type": "code",
      "source": [
        "# displaying a histogram without any negligence of table entries\n",
        "\n",
        "delay_bins = np.append(np.arange(-20, 201, 10), 600)\n",
        "df.hist('Delay', bins = delay_bins, density = True)\n",
        "plots.xlabel('Delay in Minutes')\n",
        "plots.ylabel('Fraction of flights')\n",
        "\n",
        "\n"
      ],
      "metadata": {
        "colab": {
          "base_uri": "https://localhost:8080/",
          "height": 525
        },
        "id": "Huw_ajphPcuT",
        "outputId": "09df25ce-45c6-4518-dac9-878429b687f0"
      },
      "id": "Huw_ajphPcuT",
      "execution_count": 14,
      "outputs": [
        {
          "output_type": "execute_result",
          "data": {
            "text/plain": [
              "Text(0, 0.5, 'Fraction of flights')"
            ]
          },
          "metadata": {},
          "execution_count": 14
        },
        {
          "output_type": "display_data",
          "data": {
            "text/plain": [
              "<Figure size 640x480 with 1 Axes>"
            ],
            "image/png": "[encoded data removed]"
          },
          "metadata": {}
        }
      ]
    },
    {
      "cell_type": "code",
      "execution_count": 18,
      "id": "5fc91694",
      "metadata": {
        "colab": {
          "base_uri": "https://localhost:8080/"
        },
        "id": "5fc91694",
        "outputId": "c001fede-93ee-4dbc-c9cc-2049d267d2c6"
      },
      "outputs": [
        {
          "output_type": "stream",
          "name": "stdout",
          "text": [
            "(116, 4)\n"
          ]
        }
      ],
      "source": [
        "# Let us find out how many flights had delay greater than 200mins\n",
        "df_greater_200 = df[df.Delay>200]\n",
        "# dataframe.shape gives total number of rows, columns\n",
        "print(df_greater_200.shape)\n"
      ]
    },
    {
      "cell_type": "code",
      "source": [
        "rows = df_greater_200.shape[0]\n",
        "tot_rows = df.shape[0]\n",
        "percentage = rows/tot_rows*100\n",
        "print(\"% of rows above 200 are \", percentage)"
      ],
      "metadata": {
        "colab": {
          "base_uri": "https://localhost:8080/"
        },
        "id": "HJ0iQn9gQT6m",
        "outputId": "aa6d9b25-6183-4c29-e27a-b9d50cd03d69"
      },
      "id": "HJ0iQn9gQT6m",
      "execution_count": 25,
      "outputs": [
        {
          "output_type": "stream",
          "name": "stdout",
          "text": [
            "% of rows above 200 are  0.8390596745027126\n"
          ]
        }
      ]
    },
    {
      "cell_type": "code",
      "source": [
        "## So, we are ignoring 116 entries which have delay greater than 200 which corresponds to 0.83 percentage of total. So, we are ignoring this small value to focus on big picture"
      ],
      "metadata": {
        "id": "hpWvq74ZQhbW"
      },
      "id": "hpWvq74ZQhbW",
      "execution_count": null,
      "outputs": []
    },
    {
      "cell_type": "markdown",
      "id": "6df58150",
      "metadata": {
        "id": "6df58150"
      },
      "source": [
        "### Task 5\n",
        "\n",
        "Find the mean and median value of Duration. For the median, you'll need to use some code from Section 10.3, and the mean involves an obvious change. This dataset has the property that the mean is larger than the median because the shape of the historgram has a long tail in the positive direction (a long tail in a distribution tends to affect the mean but not the median).\n",
        "\n"
      ]
    },
    {
      "cell_type": "code",
      "execution_count": 8,
      "id": "9fa4f5b4",
      "metadata": {
        "colab": {
          "base_uri": "https://localhost:8080/"
        },
        "id": "9fa4f5b4",
        "outputId": "9a4f079d-e2df-4cc0-e8e8-0d06896ae2b0"
      },
      "outputs": [
        {
          "output_type": "execute_result",
          "data": {
            "text/plain": [
              "2.0"
            ]
          },
          "metadata": {},
          "execution_count": 8
        }
      ],
      "source": [
        "df.Delay.median()\n",
        "# np.median(df.Delay)"
      ]
    },
    {
      "cell_type": "raw",
      "id": "fc1e458e",
      "metadata": {
        "id": "fc1e458e"
      },
      "source": [
        "The NumPy function median returns the median (half-way point) of an array. Among all the flights in united, the median delay was 2 minutes. That is, about 50% of flights in the population had delays of 2 or fewer minutes:"
      ]
    },
    {
      "cell_type": "code",
      "execution_count": 9,
      "id": "7c4a8c76",
      "metadata": {
        "colab": {
          "base_uri": "https://localhost:8080/"
        },
        "id": "7c4a8c76",
        "outputId": "64b7b6ee-edfa-40f0-c64c-2f1480e07ec8"
      },
      "outputs": [
        {
          "output_type": "execute_result",
          "data": {
            "text/plain": [
              "16.658155515370705"
            ]
          },
          "metadata": {},
          "execution_count": 9
        }
      ],
      "source": [
        "df.Delay.mean()\n",
        "# np.mean(df.Delay)"
      ]
    },
    {
      "cell_type": "markdown",
      "id": "b1f59069",
      "metadata": {
        "id": "b1f59069"
      },
      "source": [
        "### Task 6\n",
        "\n",
        "Simulate 5000 samples of size 100 from the Duration column. Create a histogram of the 5000 sample medians that result. Repeat this process using samples of size 400."
      ]
    },
    {
      "cell_type": "code",
      "execution_count": 10,
      "id": "281d7d87",
      "metadata": {
        "colab": {
          "base_uri": "https://localhost:8080/"
        },
        "id": "281d7d87",
        "outputId": "c12a7294-75b5-463d-bf96-79dcc6abda9c"
      },
      "outputs": [
        {
          "output_type": "execute_result",
          "data": {
            "text/plain": [
              "5000"
            ]
          },
          "metadata": {},
          "execution_count": 10
        }
      ],
      "source": [
        "'''\n",
        "Repetitions = 5000\n",
        "Sample_size = 100\n",
        "'''\n",
        "\n",
        "median_lst = []\n",
        "for i in range(5000):\n",
        "    median_lst.append(df.Delay.sample(100).median())\n",
        "len(median_lst)"
      ]
    },
    {
      "cell_type": "code",
      "execution_count": 11,
      "id": "3289dd15",
      "metadata": {
        "colab": {
          "base_uri": "https://localhost:8080/",
          "height": 496
        },
        "id": "3289dd15",
        "outputId": "2bfc0987-65f9-431a-b766-0ce44b54de0d"
      },
      "outputs": [
        {
          "output_type": "execute_result",
          "data": {
            "text/plain": [
              "array([[<Axes: title={'center': 'Sample Median'}>]], dtype=object)"
            ]
          },
          "metadata": {},
          "execution_count": 11
        },
        {
          "output_type": "display_data",
          "data": {
            "text/plain": [
              "<Figure size 640x480 with 1 Axes>"
            ],
            "image/png": "[encoded data removed]"
          },
          "metadata": {}
        }
      ],
      "source": [
        "df_median = pd.DataFrame({'Sample Median': median_lst})\n",
        "df_median.hist(density = True, bins = np.arange(0.5, 7, 1))"
      ]
    },
    {
      "cell_type": "code",
      "execution_count": 12,
      "id": "1784bb3b",
      "metadata": {
        "colab": {
          "base_uri": "https://localhost:8080/"
        },
        "id": "1784bb3b",
        "outputId": "c0cc10c2-683b-4a17-c7c5-96c6ac8d1072"
      },
      "outputs": [
        {
          "output_type": "execute_result",
          "data": {
            "text/plain": [
              "1.5"
            ]
          },
          "metadata": {},
          "execution_count": 12
        }
      ],
      "source": [
        "df.Delay.sample(100).median().max()"
      ]
    },
    {
      "cell_type": "markdown",
      "id": "e7d77418",
      "metadata": {
        "id": "e7d77418"
      },
      "source": [
        "### Task 7\n",
        "Comment on the distributions of the sample median. What can you say about the shape of the distributions, the centers of the distributions (in relation to the population quantity of interest, the median), and the comparison between the \"widths\" of the two histograms?"
      ]
    },
    {
      "cell_type": "code",
      "execution_count": 13,
      "id": "5c274ad0",
      "metadata": {
        "id": "5c274ad0"
      },
      "outputs": [],
      "source": [
        "# give me a brief explanation\n",
        "# point of this task, is to check your understanding\n",
        "# you can discuss with your friends, exchange ideas - totally fine as long as your work in individualistic"
      ]
    }
  ],
  "metadata": {
    "kernelspec": {
      "display_name": "Python 3 (ipykernel)",
      "language": "python",
      "name": "python3"
    },
    "language_info": {
      "codemirror_mode": {
        "name": "ipython",
        "version": 3
      },
      "file_extension": ".py",
      "mimetype": "text/x-python",
      "name": "python",
      "nbconvert_exporter": "python",
      "pygments_lexer": "ipython3",
      "version": "3.7.9"
    },
    "colab": {
      "provenance": []
    }
  },
  "nbformat": 4,
  "nbformat_minor": 5
}